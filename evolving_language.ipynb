from deap import base, creator, tools
import random

# signal and semantic spaces
signals = ['a', 'b', 'c', 'd']  # All possible signals
meanings = [0, 1, 2, 3]         # All possible meanings

creator.create("FitnessMax", base.Fitness, weights=(1.0,)) # to be maximized
creator.create("Individual", list, fitness=creator.FitnessMax)

toolbox = base.Toolbox()

# Attribute generators
toolbox.register("attr_signal", random.choice, signals)
toolbox.register("attr_meaning", random.choice, meanings)
toolbox.register("attr_local_state", random.randint, 0, 3)
toolbox.register("attr_global_state", random.randint, 0, 3)

GLOBAL = toolbox.attr_global_state()
print("Global State: ", GLOBAL)

# create ind
def create_individual():
    trans_genes = [toolbox.attr_signal() for _ in meanings]  
    recept_genes = [toolbox.attr_meaning() for _ in signals]  
    individual = creator.Individual(trans_genes + recept_genes)
    individual.local_state = toolbox.attr_local_state()
    return individual


# Communication between individuals
def pairwise_communication(speaker, listener):

    # speaker encodes signals
    local_signal = speaker.local_state
    global_signal = GLOBAL

    semantic_local = speaker[local_signal]
    semantic_global = speaker[global_signal]

    # listener decodes local signal
    if semantic_local == 'a':
        decoded_local = listener[4]
    elif semantic_local == 'b':
        decoded_local = listener[5]
    elif semantic_local == 'c':
        decoded_local = listener[6]
    else:
        decoded_local = listener[7]

    # listener decodes global signal
    if semantic_global == 'a':
        decoded_global = listener[4]
    elif semantic_global == 'b':
        decoded_global = listener[5]
    elif semantic_global == 'c':
        decoded_global = listener[6]
    else:
        decoded_global = listener[7]

    fitness = 0
    if local_signal == decoded_local:
        fitness += 1
    if global_signal == decoded_global:
        fitness += 1
    return fitness    


toolbox.register("individual", create_individual)

# test ind
individual1 = toolbox.individual()

# print genes
print("Individual 1:")
print("Transmission Genes:", individual1[:len(meanings)])
print("Reception Genes:", individual1[len(meanings):])
print("Local state: ", individual1.local_state)


# test ind 2
individual2 = toolbox.individual()

# print genes
print("\nIndividual 2:")
print("Transmission Genes:", individual2[:len(meanings)])
print("Reception Genes:", individual2[len(meanings):])
print("Local state: ", individual2.local_state)

# test pairwise function
val = pairwise_communication(individual1, individual2)
print("\nFitness bonus from Communication: ", val)
